{
 "cells": [
  {
   "cell_type": "code",
   "execution_count": 11,
   "metadata": {},
   "outputs": [
    {
     "data": {
      "text/plain": [
       "(4600,)"
      ]
     },
     "execution_count": 11,
     "metadata": {},
     "output_type": "execute_result"
    }
   ],
   "source": [
    "# Exercise 7.1\n",
    "import matplotlib.pyplot as plt\n",
    "from astropy.coordinates import SkyCoord\n",
    "from astroquery.sdss import SDSS\n",
    "\n",
    "coord = SkyCoord.from_name(\"J140404.9+005953.3\")\n",
    "xid = SDSS.query_region(coord, radius=\"3 arcmin\", spectro=True)\n",
    "spectra = SDSS.get_spectra(matches=xid)[0]\n",
    "spec = spectra[1].data\n",
    "spec.shape"
   ]
  }
 ],
 "metadata": {
  "kernelspec": {
   "display_name": "astropython",
   "language": "python",
   "name": "python3"
  },
  "language_info": {
   "codemirror_mode": {
    "name": "ipython",
    "version": 3
   },
   "file_extension": ".py",
   "mimetype": "text/x-python",
   "name": "python",
   "nbconvert_exporter": "python",
   "pygments_lexer": "ipython3",
   "version": "3.11.9"
  }
 },
 "nbformat": 4,
 "nbformat_minor": 2
}
