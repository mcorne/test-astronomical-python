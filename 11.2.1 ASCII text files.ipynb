{
 "cells": [
  {
   "cell_type": "code",
   "execution_count": null,
   "metadata": {},
   "outputs": [
    {
     "data": {
      "text/plain": [
       "array([(1, '01:32:32.330', '+30:35:03.97', 48.5, 'Mixed'),\n",
       "       (2, '01:32:34.685', '+30:30:27.45', 40.7, 'Mixed'),\n",
       "       (3, '01:32:34.687', '+30:27:29.01', 44.8, 'Mixed'),\n",
       "       (4, '01:32:37.566', '+30:40:08.76', 53.2, 'ClearShell'),\n",
       "       (5, '01:32:44.823', '+30:34:58.75', 29.5, 'Filled')],\n",
       "      dtype=[('f0', '<i8'), ('f1', '<U25'), ('f2', '<U25'), ('f3', '<f8'), ('f4', '<U25')])"
      ]
     },
     "execution_count": 39,
     "metadata": {},
     "output_type": "execute_result"
    }
   ],
   "source": [
    "from pathlib import Path\n",
    "\n",
    "import numpy as np\n",
    "\n",
    "data = np.genfromtxt(\n",
    "    Path(Path.cwd()) / f\"data/catalogs/relano2016_m33_apertures.txt\",\n",
    "    skip_header=1,\n",
    "    delimiter=\",\",\n",
    "    dtype=(int, \"<U25\", \"<U25\", float, \"<U25\"),\n",
    ")\n",
    "data[:5]"
   ]
  },
  {
   "cell_type": "code",
   "execution_count": 40,
   "metadata": {},
   "outputs": [
    {
     "data": {
      "text/html": [
       "<div>\n",
       "<style scoped>\n",
       "    .dataframe tbody tr th:only-of-type {\n",
       "        vertical-align: middle;\n",
       "    }\n",
       "\n",
       "    .dataframe tbody tr th {\n",
       "        vertical-align: top;\n",
       "    }\n",
       "\n",
       "    .dataframe thead th {\n",
       "        text-align: right;\n",
       "    }\n",
       "</style>\n",
       "<table border=\"1\" class=\"dataframe\">\n",
       "  <thead>\n",
       "    <tr style=\"text-align: right;\">\n",
       "      <th></th>\n",
       "      <th>ID</th>\n",
       "      <th>RA</th>\n",
       "      <th>DEC</th>\n",
       "      <th>ap_radius</th>\n",
       "      <th>type</th>\n",
       "    </tr>\n",
       "  </thead>\n",
       "  <tbody>\n",
       "    <tr>\n",
       "      <th>0</th>\n",
       "      <td>1</td>\n",
       "      <td>01:32:32.330</td>\n",
       "      <td>+30:35:03.97</td>\n",
       "      <td>48.5</td>\n",
       "      <td>Mixed</td>\n",
       "    </tr>\n",
       "    <tr>\n",
       "      <th>1</th>\n",
       "      <td>2</td>\n",
       "      <td>01:32:34.685</td>\n",
       "      <td>+30:30:27.45</td>\n",
       "      <td>40.7</td>\n",
       "      <td>Mixed</td>\n",
       "    </tr>\n",
       "    <tr>\n",
       "      <th>2</th>\n",
       "      <td>3</td>\n",
       "      <td>01:32:34.687</td>\n",
       "      <td>+30:27:29.01</td>\n",
       "      <td>44.8</td>\n",
       "      <td>Mixed</td>\n",
       "    </tr>\n",
       "    <tr>\n",
       "      <th>3</th>\n",
       "      <td>4</td>\n",
       "      <td>01:32:37.566</td>\n",
       "      <td>+30:40:08.76</td>\n",
       "      <td>53.2</td>\n",
       "      <td>ClearShell</td>\n",
       "    </tr>\n",
       "    <tr>\n",
       "      <th>4</th>\n",
       "      <td>5</td>\n",
       "      <td>01:32:44.823</td>\n",
       "      <td>+30:34:58.75</td>\n",
       "      <td>29.5</td>\n",
       "      <td>Filled</td>\n",
       "    </tr>\n",
       "  </tbody>\n",
       "</table>\n",
       "</div>"
      ],
      "text/plain": [
       "   ID            RA           DEC      ap_radius        type\n",
       "0   1  01:32:32.330  +30:35:03.97           48.5       Mixed\n",
       "1   2  01:32:34.685  +30:30:27.45           40.7       Mixed\n",
       "2   3  01:32:34.687  +30:27:29.01           44.8       Mixed\n",
       "3   4  01:32:37.566  +30:40:08.76           53.2  ClearShell\n",
       "4   5  01:32:44.823  +30:34:58.75           29.5      Filled"
      ]
     },
     "execution_count": 40,
     "metadata": {},
     "output_type": "execute_result"
    }
   ],
   "source": [
    "import pandas as pd\n",
    "\n",
    "data = pd.read_csv(Path(Path.cwd()) / f\"data/catalogs/relano2016_m33_apertures.txt\")\n",
    "data[:5]"
   ]
  },
  {
   "cell_type": "code",
   "execution_count": 41,
   "metadata": {},
   "outputs": [
    {
     "data": {
      "text/plain": [
       "Index(['ID', ' RA', '    DEC', '    ap_radius', '    type'], dtype='object')"
      ]
     },
     "execution_count": 41,
     "metadata": {},
     "output_type": "execute_result"
    }
   ],
   "source": [
    "data.columns"
   ]
  },
  {
   "cell_type": "code",
   "execution_count": 42,
   "metadata": {},
   "outputs": [
    {
     "data": {
      "text/plain": [
       "Index(['ID', 'RA', 'DEC', 'ap_radius', 'type'], dtype='object')"
      ]
     },
     "execution_count": 42,
     "metadata": {},
     "output_type": "execute_result"
    }
   ],
   "source": [
    "data = pd.read_csv(\n",
    "    Path(Path.cwd()) / f\"data/catalogs/relano2016_m33_apertures.txt\",\n",
    "    skipinitialspace=True,\n",
    ")\n",
    "data.columns"
   ]
  },
  {
   "cell_type": "code",
   "execution_count": 43,
   "metadata": {},
   "outputs": [
    {
     "data": {
      "text/html": [
       "<div>\n",
       "<style scoped>\n",
       "    .dataframe tbody tr th:only-of-type {\n",
       "        vertical-align: middle;\n",
       "    }\n",
       "\n",
       "    .dataframe tbody tr th {\n",
       "        vertical-align: top;\n",
       "    }\n",
       "\n",
       "    .dataframe thead th {\n",
       "        text-align: right;\n",
       "    }\n",
       "</style>\n",
       "<table border=\"1\" class=\"dataframe\">\n",
       "  <thead>\n",
       "    <tr style=\"text-align: right;\">\n",
       "      <th></th>\n",
       "      <th>ID</th>\n",
       "      <th>RA</th>\n",
       "      <th>DEC</th>\n",
       "      <th>ap_radius</th>\n",
       "      <th>type</th>\n",
       "    </tr>\n",
       "  </thead>\n",
       "  <tbody>\n",
       "    <tr>\n",
       "      <th>5</th>\n",
       "      <td>6</td>\n",
       "      <td>01:32:44.903</td>\n",
       "      <td>+30:25:10.88</td>\n",
       "      <td>60.0</td>\n",
       "      <td>ClearShell</td>\n",
       "    </tr>\n",
       "  </tbody>\n",
       "</table>\n",
       "</div>"
      ],
      "text/plain": [
       "   ID            RA           DEC  ap_radius        type\n",
       "5   6  01:32:44.903  +30:25:10.88       60.0  ClearShell"
      ]
     },
     "execution_count": 43,
     "metadata": {},
     "output_type": "execute_result"
    }
   ],
   "source": [
    "data.loc[data.ap_radius > 55]"
   ]
  },
  {
   "cell_type": "code",
   "execution_count": null,
   "metadata": {},
   "outputs": [],
   "source": []
  }
 ],
 "metadata": {
  "kernelspec": {
   "display_name": "astropython",
   "language": "python",
   "name": "python3"
  },
  "language_info": {
   "codemirror_mode": {
    "name": "ipython",
    "version": 3
   },
   "file_extension": ".py",
   "mimetype": "text/x-python",
   "name": "python",
   "nbconvert_exporter": "python",
   "pygments_lexer": "ipython3",
   "version": "3.11.9"
  }
 },
 "nbformat": 4,
 "nbformat_minor": 2
}
