{
 "cells": [
  {
   "cell_type": "code",
   "execution_count": 1,
   "metadata": {},
   "outputs": [],
   "source": [
    "import warnings\n",
    "\n",
    "import astropy.units as u\n",
    "from astropy.coordinates import SkyCoord\n",
    "from astropy.coordinates.name_resolve import NameResolveError\n",
    "\n",
    "\n",
    "class Target:\n",
    "    def __init__(self, target_name: str):\n",
    "        self.target_name = target_name\n",
    "        try:\n",
    "            self.target_coordinates = SkyCoord.from_name(self.target_name)\n",
    "        except NameResolveError:\n",
    "            self.target_coordinates = None\n",
    "            warnings.warn(\n",
    "                \"Coordinates could not be parsed from name; please set manually.\"\n",
    "            )\n",
    "\n",
    "    def set_coordinates(self, coordinates: SkyCoord):\n",
    "        setattr(self, \"target_coordinates\", coordinates)\n",
    "\n",
    "    def add_offset_star(self, coordinates: SkyCoord):\n",
    "        if not hasattr(self, \"target_coordinates\"):\n",
    "            raise AssertionError(\n",
    "                \"Cannot add offset star if target coordinates not defined.\"\n",
    "            )\n",
    "\n",
    "        offsets = coordinates.spherical_offsets_to(self.target_coordinates)\n",
    "        self._offsets = [i.to(u.arcsec) for i in offsets]\n",
    "\n",
    "    @property\n",
    "    def offsets(self):\n",
    "        return f\"{self._offsets[0].value:.1f}'' N, {self._offsets[1].value:.1f}'' E\"\n",
    "\n",
    "    def get_offsets(self):\n",
    "        return f\"{self._offsets[0].value:.1f}° N, {self._offsets[1].value:.1f}° E\"\n",
    "\n",
    "    def __repr__(self):\n",
    "        outstr = f\"Target object for {self.target_name} with coordinates {self.target_coordinates.to_string()}\"\n",
    "        return outstr"
   ]
  },
  {
   "cell_type": "code",
   "execution_count": 2,
   "metadata": {},
   "outputs": [
    {
     "data": {
      "text/plain": [
       "<SkyCoord (ICRS): (ra, dec) in deg\n",
       "    (148.8882194, 69.06529514)>"
      ]
     },
     "execution_count": 2,
     "metadata": {},
     "output_type": "execute_result"
    }
   ],
   "source": [
    "m81 = Target(\"M81\")\n",
    "m81.target_coordinates"
   ]
  },
  {
   "cell_type": "code",
   "execution_count": 3,
   "metadata": {},
   "outputs": [
    {
     "data": {
      "text/plain": [
       "<SkyCoord (ICRS): (ra, dec) in deg\n",
       "    (148.8882194, 69.06529514)>"
      ]
     },
     "execution_count": 3,
     "metadata": {},
     "output_type": "execute_result"
    }
   ],
   "source": [
    "m81_coord = SkyCoord.from_name(\"M81\")\n",
    "m81.set_coordinates(\"M81\")\n",
    "m81.set_coordinates(m81_coord)\n",
    "m81.target_coordinates"
   ]
  },
  {
   "cell_type": "code",
   "execution_count": 4,
   "metadata": {},
   "outputs": [
    {
     "name": "stderr",
     "output_type": "stream",
     "text": [
      "C:\\Users\\michel\\AppData\\Local\\Temp\\ipykernel_21432\\3792580531.py:15: UserWarning: Coordinates could not be parsed from name; please set manually.\n",
      "  warnings.warn(\n"
     ]
    }
   ],
   "source": [
    "custom_galaxy = Target(\"N15738-J\")\n",
    "custom_galaxy.target_coordinates"
   ]
  },
  {
   "cell_type": "code",
   "execution_count": 5,
   "metadata": {},
   "outputs": [
    {
     "data": {
      "text/plain": [
       "\"77.2'' N, 44.5'' E\""
      ]
     },
     "execution_count": 5,
     "metadata": {},
     "output_type": "execute_result"
    }
   ],
   "source": [
    "m81.add_offset_star(SkyCoord(ra=148.8282194, dec=69.0529514, unit=\"deg\"))\n",
    "m81.offsets"
   ]
  },
  {
   "cell_type": "code",
   "execution_count": 6,
   "metadata": {},
   "outputs": [
    {
     "data": {
      "text/plain": [
       "'77.2° N, 44.5° E'"
      ]
     },
     "execution_count": 6,
     "metadata": {},
     "output_type": "execute_result"
    }
   ],
   "source": [
    "m81.get_offsets()"
   ]
  },
  {
   "cell_type": "code",
   "execution_count": 7,
   "metadata": {},
   "outputs": [
    {
     "data": {
      "text/plain": [
       "Target object for M81 with coordinates 148.888 69.0653"
      ]
     },
     "execution_count": 7,
     "metadata": {},
     "output_type": "execute_result"
    }
   ],
   "source": [
    "m81"
   ]
  }
 ],
 "metadata": {
  "kernelspec": {
   "display_name": "astropython",
   "language": "python",
   "name": "python3"
  },
  "language_info": {
   "codemirror_mode": {
    "name": "ipython",
    "version": 3
   },
   "file_extension": ".py",
   "mimetype": "text/x-python",
   "name": "python",
   "nbconvert_exporter": "python",
   "pygments_lexer": "ipython3",
   "version": "3.11.9"
  }
 },
 "nbformat": 4,
 "nbformat_minor": 2
}
