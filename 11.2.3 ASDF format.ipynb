{
 "cells": [
  {
   "cell_type": "code",
   "execution_count": null,
   "metadata": {},
   "outputs": [],
   "source": [
    "from pathlib import Path\n",
    "\n",
    "import asdf\n",
    "import numpy as np\n",
    "from asdf import AsdfFile\n",
    "\n",
    "tree = {\n",
    "    \"a\": np.arange(0, 10),\n",
    "    \"b\": np.arange(0, 20),\n",
    "}\n",
    "\n",
    "target = AsdfFile(tree)\n",
    "target.write_to(Path(Path.cwd()) / f\"output/target.asdf\")"
   ]
  },
  {
   "cell_type": "code",
   "execution_count": 11,
   "metadata": {},
   "outputs": [
    {
     "name": "stdout",
     "output_type": "stream",
     "text": [
      "{'a': <array (unloaded) shape: [10] dtype: int64>,\n",
      " 'asdf_library': {'author': 'The ASDF Developers',\n",
      "                  'homepage': 'http://github.com/asdf-format/asdf',\n",
      "                  'name': 'asdf',\n",
      "                  'version': '3.4.0'},\n",
      " 'b': <array (unloaded) shape: [20] dtype: int64>,\n",
      " 'history': {'extensions': [{'extension_class': 'asdf.extension._manifest.ManifestExtension',\n",
      "                             'extension_uri': 'asdf://asdf-format.org/core/extensions/core-1.5.0',\n",
      "                             'manifest_software': {'name': 'asdf_standard',\n",
      "                                                   'version': '1.1.1'},\n",
      "                             'software': {'name': 'asdf',\n",
      "                                          'version': '3.4.0'}}]}}\n",
      "[0 1 2 3 4 5 6 7 8 9]\n",
      "[ 0  1  2  3  4  5  6  7  8  9 10 11 12 13 14 15 16 17 18 19]\n"
     ]
    }
   ],
   "source": [
    "import pprint\n",
    "\n",
    "with asdf.open(Path(Path.cwd()) / f\"output/target.asdf\") as af:\n",
    "    tree2 = af.tree\n",
    "    pprint.pprint(tree2)\n",
    "    print(tree2[\"a\"][:])\n",
    "    print(tree2[\"b\"][:])"
   ]
  }
 ],
 "metadata": {
  "kernelspec": {
   "display_name": "astropython",
   "language": "python",
   "name": "python3"
  },
  "language_info": {
   "codemirror_mode": {
    "name": "ipython",
    "version": 3
   },
   "file_extension": ".py",
   "mimetype": "text/x-python",
   "name": "python",
   "nbconvert_exporter": "python",
   "pygments_lexer": "ipython3",
   "version": "3.11.9"
  }
 },
 "nbformat": 4,
 "nbformat_minor": 2
}
