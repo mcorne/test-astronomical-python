{
 "cells": [
  {
   "cell_type": "code",
   "execution_count": 7,
   "metadata": {},
   "outputs": [
    {
     "name": "stdout",
     "output_type": "stream",
     "text": [
      "INFO: Query finished. [astroquery.utils.tap.core]\n"
     ]
    },
    {
     "data": {
      "text/plain": [
       "[<Angle 39.23849035 arcsec>, <Angle 4.08555925 arcsec>]"
      ]
     },
     "execution_count": 7,
     "metadata": {},
     "output_type": "execute_result"
    }
   ],
   "source": [
    "import astropy.units as u\n",
    "import numpy as np\n",
    "from astropy.coordinates import SkyCoord\n",
    "from astroquery.gaia import Gaia\n",
    "from astropy.coordinates import SkyCoord\n",
    "\n",
    "Gaia.MAIN_GAIA_TABLE = \"gaiadr3.gaia_source\"\n",
    "\n",
    "\n",
    "class NoMatchesError(Exception):\n",
    "    pass\n",
    "\n",
    "\n",
    "def find_offset_star(\n",
    "    target_coordinate: SkyCoord,\n",
    "    cone_radius: u.Quantity = 1 * u.arcmin,\n",
    "    limiting_magnitude: float = 15.0,\n",
    "):\n",
    "    j = Gaia.cone_search_async(target_coordinate, radius=cone_radius)\n",
    "    r = j.get_results()\n",
    "    r = r[r[\"phot_g_mean_mag\"] < limiting_magnitude]\n",
    "\n",
    "    if len(r) == 0:\n",
    "        raise NoMatchesError(\"No stars match the search criteria.\")\n",
    "\n",
    "    star_coords = SkyCoord(ra=r[\"ra\"], dec=r[\"dec\"], unit=\"deg\")\n",
    "    all_separations = target_coordinate.separation(star_coords)\n",
    "    ind = np.argmin(all_separations)\n",
    "    best_star_coord = SkyCoord(ra=r[\"ra\"][ind], dec=r[\"dec\"][ind], unit=\"deg\")\n",
    "\n",
    "    final_offset = best_star_coord.spherical_offsets_to(target_coordinate)\n",
    "    offsets_arcsec = [i.to(u.arcsec) for i in final_offset]\n",
    "\n",
    "    return best_star_coord, offsets_arcsec\n",
    "\n",
    "\n",
    "coordinate = SkyCoord.from_name(\"M81\")\n",
    "coord_star, os = find_offset_star(coordinate)\n",
    "os"
   ]
  }
 ],
 "metadata": {
  "kernelspec": {
   "display_name": "astropython",
   "language": "python",
   "name": "python3"
  },
  "language_info": {
   "codemirror_mode": {
    "name": "ipython",
    "version": 3
   },
   "file_extension": ".py",
   "mimetype": "text/x-python",
   "name": "python",
   "nbconvert_exporter": "python",
   "pygments_lexer": "ipython3",
   "version": "3.11.9"
  }
 },
 "nbformat": 4,
 "nbformat_minor": 2
}
